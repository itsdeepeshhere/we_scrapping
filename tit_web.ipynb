{
  "nbformat": 4,
  "nbformat_minor": 0,
  "metadata": {
    "colab": {
      "provenance": [],
      "include_colab_link": true
    },
    "kernelspec": {
      "name": "python3",
      "display_name": "Python 3"
    },
    "language_info": {
      "name": "python"
    }
  },
  "cells": [
    {
      "cell_type": "markdown",
      "metadata": {
        "id": "view-in-github",
        "colab_type": "text"
      },
      "source": [
        "<a href=\"https://colab.research.google.com/github/itsdeepeshhere/Bird-Detection-using-OpenCV/blob/main/Untitled0.ipynb\" target=\"_parent\"><img src=\"https://colab.research.google.com/assets/colab-badge.svg\" alt=\"Open In Colab\"/></a>"
      ]
    },
    {
      "cell_type": "code",
      "source": [
        "from bs4 import BeautifulSoup\n",
        "import requests           # make HTTP requests to interact with web services, APIs, or websites. It allows you to send HTTP GET, POST, and other types of requests and retrieve data from remote sources.\n",
        "import smtplib            # for sending email using the Simple Mail Transfer Protocol (SMTP)\n",
        "import time\n",
        "import datetime\n",
        "import pandas as pd\n",
        "import csv"
      ],
      "metadata": {
        "id": "Db6CeEn9ftYA"
      },
      "execution_count": 12,
      "outputs": []
    },
    {
      "cell_type": "code",
      "execution_count": 19,
      "metadata": {
        "id": "7sKEDfdIfiH_"
      },
      "outputs": [],
      "source": [
        "def check_price():\n",
        "    url='https://www.amazon.in/Nokia-Snapdragon%C2%AE-Virtual-Upgrades-Included/dp/B0CDXKF7KM/ref=sr_1_2?crid=PZQKWOS8X8SJ&keywords=nokia%2Bg42%2B5g%2Bmobile&qid=1695653014&s=electronics&sprefix=nokia%2Bg%2Celectronics%2C241&sr=1-2&th=1'\n",
        "\n",
        "    headers={\"User-Agent\": \"Mozilla/5.0 (Windows NT 10.0; Win64; x64) AppleWebKit/537.36 (KHTML, like Gecko) Chrome/118.0.0.0 Safari/537.36\"}\n",
        "\n",
        "    page=requests.get(url, headers=headers)\n",
        "\n",
        "    soup1=BeautifulSoup(page.content, 'html.parser')\n",
        "\n",
        "    soup2=BeautifulSoup(soup1.prettify(), 'html.parser')\n",
        "\n",
        "    title= soup2.find(id='productTitle').get_text().strip()\n",
        "\n",
        "    price=soup2.find('span', class_='a-price-whole').get_text().strip()\n",
        "\n",
        "    date=datetime.date.today()\n",
        "\n",
        "    import csv\n",
        "\n",
        "    header =['title', 'price', 'date']\n",
        "    data=[title, price, date]\n",
        "\n",
        "    with open('amazon_product.csv', 'a', newline='', encoding='UTF8') as f:\n",
        "        writer = csv.writer(f)\n",
        "        writer.writerow(header)\n",
        "        writer.writerow(data)\n"
      ]
    },
    {
      "cell_type": "code",
      "source": [
        "while(True):\n",
        "    check_price()\n",
        "    time.sleep(5)"
      ],
      "metadata": {
        "colab": {
          "base_uri": "https://localhost:8080/",
          "height": 210
        },
        "id": "xjl0qoWDfleP",
        "outputId": "4bd3a109-d93c-449b-e498-43ff60193187"
      },
      "execution_count": 20,
      "outputs": [
        {
          "output_type": "error",
          "ename": "KeyboardInterrupt",
          "evalue": "ignored",
          "traceback": [
            "\u001b[0;31m---------------------------------------------------------------------------\u001b[0m",
            "\u001b[0;31mKeyboardInterrupt\u001b[0m                         Traceback (most recent call last)",
            "\u001b[0;32m<ipython-input-20-9d49b55d09d0>\u001b[0m in \u001b[0;36m<cell line: 1>\u001b[0;34m()\u001b[0m\n\u001b[1;32m      1\u001b[0m \u001b[0;32mwhile\u001b[0m\u001b[0;34m(\u001b[0m\u001b[0;32mTrue\u001b[0m\u001b[0;34m)\u001b[0m\u001b[0;34m:\u001b[0m\u001b[0;34m\u001b[0m\u001b[0;34m\u001b[0m\u001b[0m\n\u001b[1;32m      2\u001b[0m     \u001b[0mcheck_price\u001b[0m\u001b[0;34m(\u001b[0m\u001b[0;34m)\u001b[0m\u001b[0;34m\u001b[0m\u001b[0;34m\u001b[0m\u001b[0m\n\u001b[0;32m----> 3\u001b[0;31m     \u001b[0mtime\u001b[0m\u001b[0;34m.\u001b[0m\u001b[0msleep\u001b[0m\u001b[0;34m(\u001b[0m\u001b[0;36m5\u001b[0m\u001b[0;34m)\u001b[0m\u001b[0;34m\u001b[0m\u001b[0;34m\u001b[0m\u001b[0m\n\u001b[0m",
            "\u001b[0;31mKeyboardInterrupt\u001b[0m: "
          ]
        }
      ]
    },
    {
      "cell_type": "code",
      "source": [
        "df=pd.read_csv('amazon_product.csv')\n",
        "print(df)"
      ],
      "metadata": {
        "colab": {
          "base_uri": "https://localhost:8080/"
        },
        "id": "82TDmRyVfngv",
        "outputId": "56d6521c-43a9-497f-dd85-ba386c7250da"
      },
      "execution_count": 21,
      "outputs": [
        {
          "output_type": "stream",
          "name": "stdout",
          "text": [
            "                                               title  \\\n",
            "0  Nokia G42 5G | Snapdragon® 480+ 5G | 50MP Trip...   \n",
            "1                                              title   \n",
            "2  Nokia G42 5G | Snapdragon® 480+ 5G | 50MP Trip...   \n",
            "3                                              title   \n",
            "4  Nokia G42 5G | Snapdragon® 480+ 5G | 50MP Trip...   \n",
            "5                                              title   \n",
            "6  Nokia G42 5G | Snapdragon® 480+ 5G | 50MP Trip...   \n",
            "\n",
            "                                               price        date  \n",
            "0  11,999\\n                                  \\n  ...  2023-11-02  \n",
            "1                                              price        date  \n",
            "2  11,999\\n                                  \\n  ...  2023-11-02  \n",
            "3                                              price        date  \n",
            "4  11,999\\n                                  \\n  ...  2023-11-02  \n",
            "5                                              price        date  \n",
            "6  11,999\\n                                  \\n  ...  2023-11-02  \n"
          ]
        }
      ]
    }
  ]
}
